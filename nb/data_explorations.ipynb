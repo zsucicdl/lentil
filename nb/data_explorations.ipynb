{
 "cells": [
  {
   "cell_type": "code",
   "execution_count": 103,
   "metadata": {
    "collapsed": false
   },
   "outputs": [],
   "source": [
    "from __future__ import division\n",
    "\n",
    "from collections import defaultdict\n",
    "import pickle\n",
    "import os\n",
    "import sys\n",
    "\n",
    "from matplotlib import pyplot as plt\n",
    "import pygraphviz as pgv\n",
    "import numpy as np\n",
    "import pandas as pd\n",
    "\n",
    "import seaborn as sns\n",
    "sns.set_style('whitegrid')\n",
    "\n",
    "from lentil import datatools\n",
    "\n",
    "%matplotlib inline"
   ]
  },
  {
   "cell_type": "code",
   "execution_count": 104,
   "metadata": {
    "collapsed": true
   },
   "outputs": [],
   "source": [
    "import logging\n",
    "logging.getLogger().setLevel(logging.DEBUG)"
   ]
  },
  {
   "cell_type": "markdown",
   "metadata": {},
   "source": [
    "[Grockit Kaggle Comp](https://www.kaggle.com/c/WhatDoYouKnow)"
   ]
  },
  {
   "cell_type": "code",
   "execution_count": 105,
   "metadata": {
    "collapsed": true
   },
   "outputs": [],
   "source": [
    "def interaction_history_from_grockit_data_set(data):\n",
    "    \"\"\"\n",
    "    Parse Grockit data set into an interaction history\n",
    "    \n",
    "    :param pd.DataFrame data: A dataframe of raw interactions\n",
    "    :rtype: datatools.InteractionHistory\n",
    "    :return: An interaction history object\n",
    "    \"\"\"\n",
    "    \n",
    "    data['round_started_at'] = pd.to_datetime(data['round_started_at'], format='%Y-%m-%d %H:%M:%S', errors='coerce')\n",
    "    data['answered_at'] = pd.to_datetime(data['answered_at'], format='%Y-%m-%d %H:%M:%S', errors='coerce')\n",
    "        \n",
    "    # sort by timestamp\n",
    "    data.sort_index(by='answered_at', inplace=True, axis=0)\n",
    "    \n",
    "    # compute response times\n",
    "    data['duration'] = (data['answered_at'] - data['round_started_at']) / np.timedelta64(1, 's')\n",
    "    \n",
    "    # get relevant columns and rename them\n",
    "    data = data[['user_id', 'correct', 'question_id', 'answered_at', 'duration']]\n",
    "    data.columns = ['user_id', 'outcome', 'module_id', 'timestamp', 'duration']\n",
    "    \n",
    "    # only keep interactions with binary outcomes and positive response times\n",
    "    data = data[((data['outcome']==1) | (data['outcome']==0)) & (data['duration'] > 0)]\n",
    "    \n",
    "    # cast outcomes from 0/1 to False/True\n",
    "    data['outcome'] = data['outcome'].apply(lambda x: x == 1)\n",
    "    \n",
    "    student_timesteps = defaultdict(int)\n",
    "    timesteps = [None] * len(data)\n",
    "    for i, (_, ixn) in enumerate(data.iterrows()):\n",
    "        student_timesteps[ixn['user_id']] += 1\n",
    "        timesteps[i] = student_timesteps[ixn['user_id']]\n",
    "    data['timestep'] = timesteps\n",
    "    \n",
    "    data['module_type'] = [datatools.AssessmentInteraction.MODULETYPE] * len(data)\n",
    "    \n",
    "    lesson_data = data.copy(deep=True)\n",
    "    lesson_data['module_type'] = [datatools.LessonInteraction.MODULETYPE] * len(lesson_data)\n",
    "    \n",
    "    return datatools.InteractionHistory(\n",
    "        pd.concat([data, lesson_data], axis=0),\n",
    "        sort_by_timestep=True)"
   ]
  },
  {
   "cell_type": "code",
   "execution_count": 106,
   "metadata": {
    "collapsed": false
   },
   "outputs": [],
   "source": [
    "data_path = os.path.join('data', 'grockit', 'valid_training.csv')\n",
    "data_path = '/home/zvonimir/PycharmProjects/lentil/data/grockit/valid_training.csv'\n",
    "df = pd.read_csv(data_path, delimiter=',')"
   ]
  },
  {
   "cell_type": "code",
   "execution_count": 107,
   "metadata": {
    "collapsed": false
   },
   "outputs": [
    {
     "name": "stdout",
     "output_type": "stream",
     "text": [
      "correct\n",
      "outcome\n",
      "user_id\n",
      "question_id\n",
      "question_type\n",
      "group_name\n",
      "track_name\n",
      "subtrack_name\n",
      "tag_string\n",
      "round_started_at\n",
      "answered_at\n",
      "deactivated_at\n",
      "answer_id\n",
      "game_type\n",
      "num_players\n",
      "date_of_test\n",
      "question_set_id\n"
     ]
    }
   ],
   "source": [
    "print '\\n'.join(df.columns)"
   ]
  },
  {
   "cell_type": "code",
   "execution_count": 108,
   "metadata": {
    "collapsed": false
   },
   "outputs": [
    {
     "name": "stdout",
     "output_type": "stream",
     "text": [
      "Number of interactions = 4763362\n",
      "Number of unique students = 179106\n",
      "Number of unique modules = 6045\n"
     ]
    }
   ],
   "source": [
    "print \"Number of interactions = %d\" % len(df)\n",
    "print \"Number of unique students = %d\" % len(df['user_id'].unique())\n",
    "print \"Number of unique modules = %d\" % len(df['question_id'].unique())"
   ]
  },
  {
   "cell_type": "code",
   "execution_count": 109,
   "metadata": {
    "collapsed": false
   },
   "outputs": [
    {
     "data": {
      "image/png": "[encoded data removed]",
      "text/plain": "<Figure size 432x288 with 1 Axes>"
     },
     "metadata": {
      "needs_background": "light"
     },
     "output_type": "display_data"
    }
   ],
   "source": [
    "plt.xlabel('Number of interactions per student')\n",
    "plt.ylabel('Frequency (number of students)')\n",
    "plt.hist(df['user_id'].value_counts().values)\n",
    "plt.show()"
   ]
  },
  {
   "cell_type": "code",
   "execution_count": 110,
   "metadata": {
    "collapsed": false
   },
   "outputs": [
    {
     "data": {
      "image/png": "[encoded data removed]",
      "text/plain": "<Figure size 432x288 with 1 Axes>"
     },
     "metadata": {
      "needs_background": "light"
     },
     "output_type": "display_data"
    }
   ],
   "source": [
    "plt.xlabel('Number of interactions per problem')\n",
    "plt.ylabel('Frequency (number of problems)')\n",
    "plt.hist(df['question_id'].value_counts().values)\n",
    "plt.show()"
   ]
  },
  {
   "cell_type": "code",
   "execution_count": 111,
   "metadata": {
    "collapsed": false
   },
   "outputs": [],
   "source": [
    "#unfiltered_history = interaction_history_from_grockit_data_set(df)\n",
    "#\n"
   ]
  },
  {
   "cell_type": "markdown",
   "metadata": {},
   "source": [
    "[Assistments](https://sites.google.com/site/assistmentsdata/home/assistment-2009-2010-data)"
   ]
  },
  {
   "cell_type": "code",
   "execution_count": 112,
   "metadata": {
    "collapsed": true
   },
   "outputs": [],
   "source": [
    "def interaction_history_from_assistments_data_set(\n",
    "    data,\n",
    "    duration_column='timestep',\n",
    "    module_id_column='problem_id'):\n",
    "    \"\"\"\n",
    "    Parse dataframe of assistments interactions into an interaction history\n",
    "\n",
    "    :param pd.DataFrame assistments_data: A raw history from assistments\n",
    "    :param str duration_column: Column to use as interaction duration\n",
    "    :param str module_id_column: Column to use as module_id\n",
    "    :rtype: datatools.InteractionHistory\n",
    "    :return: An interaction history\n",
    "    \"\"\"\n",
    "    # sort by order_id\n",
    "    data.sort_index(by='order_id', inplace=True, axis=0)\n",
    "    \n",
    "    # get relevant columns and rename them\n",
    "    data = data[['user_id', 'correct', duration_column, module_id_column]]\n",
    "    data.columns = ['user_id', 'outcome', 'duration', 'module_id']\n",
    "\n",
    "    # only keep interactions with binary outcomes and positive response times\n",
    "    data = data[((data['outcome']==1) | (data['outcome']==0)) & (data['duration'] > 0)]\n",
    "    \n",
    "    # cast outcomes from int to bool\n",
    "    data['outcome'] = data['outcome'].apply(lambda x: x == 1)\n",
    "\n",
    "    # map response times from milliseconds to seconds\n",
    "    data['duration'] = data['duration'].apply(lambda x: x / 1000)\n",
    "\n",
    "    # existing interactions are all assessment interactions\n",
    "    data['module_type'] = [datatools.AssessmentInteraction.MODULETYPE] * len(data)\n",
    "\n",
    "    # add timesteps\n",
    "    timesteps = [None] * len(data)\n",
    "    student_timesteps = defaultdict(int)\n",
    "    for i, (_, ixn) in enumerate(data.iterrows()):\n",
    "        student_timesteps[ixn['user_id']] += 1\n",
    "        timesteps[i] = student_timesteps[ixn['user_id']]\n",
    "    data['timestep'] = timesteps\n",
    "\n",
    "    # add artificial lesson interactions\n",
    "    lesson_data = data.copy(deep=True)\n",
    "    lesson_data['module_type'] = [datatools.LessonInteraction.MODULETYPE] * len(data)\n",
    "\n",
    "    return datatools.InteractionHistory(\n",
    "        pd.concat([data, lesson_data]),\n",
    "        sort_by_timestep=True)"
   ]
  },
  {
   "cell_type": "code",
   "execution_count": 113,
   "metadata": {
    "collapsed": false
   },
   "outputs": [],
   "source": [
    "# data_path = os.path.join('data', 'assistments_2009_2010.csv')\n",
    "# df = pd.read_csv(data_path, delimiter=',')\n",
    "# history_path = os.path.join('data', 'assistments_2009_2010.pkl')\n",
    "history_path = '/home/zvonimir/PycharmProjects/lentil/data/skill_builder_data.csv'\n",
    "df=pd.read_csv(history_path)"
   ]
  },
  {
   "cell_type": "code",
   "execution_count": 114,
   "metadata": {
    "collapsed": false
   },
   "outputs": [
    {
     "name": "stdout",
     "output_type": "stream",
     "text": [
      "order_id\n",
      "assignment_id\n",
      "user_id\n",
      "assistment_id\n",
      "problem_id\n",
      "original\n",
      "correct\n",
      "attempt_count\n",
      "ms_first_response\n",
      "tutor_mode\n",
      "answer_type\n",
      "sequence_id\n",
      "student_class_id\n",
      "position\n",
      "type\n",
      "base_sequence_id\n",
      "skill_id\n",
      "skill_name\n",
      "teacher_id\n",
      "school_id\n",
      "hint_count\n",
      "hint_total\n",
      "overlap_time\n",
      "template_id\n",
      "answer_id\n",
      "answer_text\n",
      "first_action\n",
      "bottom_hint\n",
      "opportunity\n",
      "opportunity_original\n"
     ]
    }
   ],
   "source": [
    "print '\\n'.join(df.columns)"
   ]
  },
  {
   "cell_type": "code",
   "execution_count": 115,
   "metadata": {
    "collapsed": false
   },
   "outputs": [
    {
     "name": "stdout",
     "output_type": "stream",
     "text": [
      "Number of interactions = 525534\n",
      "Number of unique students = 4217\n",
      "Number of unique modules = 26688\n"
     ]
    }
   ],
   "source": [
    "print \"Number of interactions = %d\" % (len(df))\n",
    "print \"Number of unique students = %d\" % (len(df['user_id'].unique()))\n",
    "print \"Number of unique modules = %d\" % (len(df['problem_id'].unique()))"
   ]
  },
  {
   "cell_type": "code",
   "execution_count": 116,
   "metadata": {
    "collapsed": false
   },
   "outputs": [
    {
     "data": {
      "image/png": "[encoded data removed]",
      "text/plain": "<Figure size 432x288 with 1 Axes>"
     },
     "metadata": {
      "needs_background": "light"
     },
     "output_type": "display_data"
    }
   ],
   "source": [
    "plt.xlabel('Number of interactions per student')\n",
    "plt.ylabel('Frequency (number of students)')\n",
    "plt.hist(df['user_id'].value_counts().values)\n",
    "plt.show()"
   ]
  },
  {
   "cell_type": "code",
   "execution_count": 117,
   "metadata": {
    "collapsed": false
   },
   "outputs": [
    {
     "data": {
      "image/png": "[encoded data removed]",
      "text/plain": "<Figure size 432x288 with 1 Axes>"
     },
     "metadata": {
      "needs_background": "light"
     },
     "output_type": "display_data"
    }
   ],
   "source": [
    "plt.xlabel('Number of interactions per problem')\n",
    "plt.ylabel('Frequency (number of problems)')\n",
    "plt.hist(df['problem_id'].value_counts().values)\n",
    "plt.show()"
   ]
  },
  {
   "cell_type": "code",
   "execution_count": 118,
   "metadata": {
    "collapsed": false
   },
   "outputs": [
    {
     "name": "stderr",
     "output_type": "stream",
     "text": [
      "/home/zvonimir/PycharmProjects/lentil/venv/lib/python2.7/site-packages/ipykernel_launcher.py:16: FutureWarning: by argument to sort_index is deprecated, please use .sort_values(by=...)\n",
      "  app.launch_new_instance()\n"
     ]
    }
   ],
   "source": [
    "unfiltered_history = interaction_history_from_assistments_data_set(\n",
    "    df,\n",
    "    module_id_column='problem_id',\n",
    "    duration_column='ms_first_response')"
   ]
  },
  {
   "cell_type": "markdown",
   "metadata": {},
   "source": [
    "Filter the interaction history"
   ]
  },
  {
   "cell_type": "code",
   "execution_count": 119,
   "metadata": {
    "collapsed": true
   },
   "outputs": [],
   "source": [
    "def filter_history(history, min_num_ixns=5, max_num_ixns=sys.maxint):\n",
    "    \"\"\"\n",
    "    Filter history for students with histories of bounded length,\n",
    "    and modules with enough interactions\n",
    "    \n",
    "    :param datatools.InteractionHistory history: An interaction history\n",
    "    :param int min_num_ixns: Minimum number of timesteps in student history,\n",
    "        and minimum number of interactions for module\n",
    "    \n",
    "    :param int max_num_ixns: Maximum number of timesteps in student history\n",
    "    :rtype: datatools.InteractionHistory\n",
    "    :return: A filtered interaction history\n",
    "    \"\"\"\n",
    "    students = set(history.data['user_id'][(\n",
    "                history.data['timestep'] > min_num_ixns) & (\n",
    "                history.data['module_type']==datatools.AssessmentInteraction.MODULETYPE)])\n",
    "    students -= set(history.data['user_id'][history.data['timestep'] >= max_num_ixns])\n",
    "    \n",
    "    modules = {module_id for module_id, group in history.data.groupby('module_id') if len(group) > min_num_ixns}\n",
    "\n",
    "    return datatools.InteractionHistory(\n",
    "        history.data[(history.data['user_id'].isin(students)) & (\n",
    "                history.data['module_id'].isin(modules))],\n",
    "        reindex_timesteps=True)"
   ]
  },
  {
   "cell_type": "code",
   "execution_count": 120,
   "metadata": {
    "collapsed": false
   },
   "outputs": [
    {
     "name": "stderr",
     "output_type": "stream",
     "text": [
      "/home/zvonimir/PycharmProjects/lentil/lentil/datatools.py:274: SettingWithCopyWarning: \n",
      "A value is trying to be set on a copy of a slice from a DataFrame.\n",
      "Try using .loc[row_indexer,col_indexer] = value instead\n",
      "\n",
      "See the caveats in the documentation: http://pandas.pydata.org/pandas-docs/stable/indexing.html#indexing-view-versus-copy\n",
      "  axis=1)\n"
     ]
    }
   ],
   "source": [
    "# apply the filter a couple of times, since removing student histories\n",
    "# may cause certain modules to drop below the min_num_ixns threshold,\n",
    "# and removing modules may cause student histories to drop below\n",
    "# the min_num_ixns threshold\n",
    "REPEATED_FILTER = 3 # number of times to repeat filtering\n",
    "history = reduce(\n",
    "    lambda acc, _: filter_history(acc, min_num_ixns=75, max_num_ixns=1000), \n",
    "    range(REPEATED_FILTER), unfiltered_history)"
   ]
  },
  {
   "cell_type": "markdown",
   "metadata": {},
   "source": [
    "Explore basic stats about interaction history"
   ]
  },
  {
   "cell_type": "code",
   "execution_count": 121,
   "metadata": {
    "collapsed": false,
    "scrolled": true
   },
   "outputs": [
    {
     "ename": "KeyError",
     "evalue": "'module_type'",
     "output_type": "error",
     "traceback": [
      "\u001B[0;31m\u001B[0m",
      "\u001B[0;31mKeyError\u001B[0mTraceback (most recent call last)",
      "\u001B[0;32m<ipython-input-121-9f3cd6c9420c>\u001B[0m in \u001B[0;36m<module>\u001B[0;34m()\u001B[0m\n\u001B[1;32m      1\u001B[0m \u001B[0;34m\u001B[0m\u001B[0m\n\u001B[1;32m      2\u001B[0m \u001B[0mnum_interactions\u001B[0m \u001B[0;34m=\u001B[0m \u001B[0mlen\u001B[0m\u001B[0;34m(\u001B[0m\u001B[0mdf\u001B[0m\u001B[0;34m)\u001B[0m\u001B[0;34m\u001B[0m\u001B[0m\n\u001B[0;32m----> 3\u001B[0;31m \u001B[0mvalue_counts\u001B[0m \u001B[0;34m=\u001B[0m \u001B[0mdf\u001B[0m\u001B[0;34m[\u001B[0m\u001B[0;34m'module_type'\u001B[0m\u001B[0;34m]\u001B[0m\u001B[0;34m.\u001B[0m\u001B[0mvalue_counts\u001B[0m\u001B[0;34m(\u001B[0m\u001B[0;34m)\u001B[0m\u001B[0;34m\u001B[0m\u001B[0m\n\u001B[0m\u001B[1;32m      4\u001B[0m \u001B[0mnum_assessment_ixns\u001B[0m \u001B[0;34m=\u001B[0m \u001B[0mvalue_counts\u001B[0m\u001B[0;34m.\u001B[0m\u001B[0mget\u001B[0m\u001B[0;34m(\u001B[0m\u001B[0mdatatools\u001B[0m\u001B[0;34m.\u001B[0m\u001B[0mAssessmentInteraction\u001B[0m\u001B[0;34m.\u001B[0m\u001B[0mMODULETYPE\u001B[0m\u001B[0;34m,\u001B[0m \u001B[0;36m0\u001B[0m\u001B[0;34m)\u001B[0m\u001B[0;34m\u001B[0m\u001B[0m\n\u001B[1;32m      5\u001B[0m \u001B[0mnum_lesson_ixns\u001B[0m \u001B[0;34m=\u001B[0m \u001B[0mvalue_counts\u001B[0m\u001B[0;34m.\u001B[0m\u001B[0mget\u001B[0m\u001B[0;34m(\u001B[0m\u001B[0mdatatools\u001B[0m\u001B[0;34m.\u001B[0m\u001B[0mLessonInteraction\u001B[0m\u001B[0;34m.\u001B[0m\u001B[0mMODULETYPE\u001B[0m\u001B[0;34m,\u001B[0m \u001B[0;36m0\u001B[0m\u001B[0;34m)\u001B[0m\u001B[0;34m\u001B[0m\u001B[0m\n",
      "\u001B[0;32m/home/zvonimir/PycharmProjects/lentil/venv/local/lib/python2.7/site-packages/pandas/core/frame.pyc\u001B[0m in \u001B[0;36m__getitem__\u001B[0;34m(self, key)\u001B[0m\n\u001B[1;32m   2925\u001B[0m             \u001B[0;32mif\u001B[0m \u001B[0mself\u001B[0m\u001B[0;34m.\u001B[0m\u001B[0mcolumns\u001B[0m\u001B[0;34m.\u001B[0m\u001B[0mnlevels\u001B[0m \u001B[0;34m>\u001B[0m \u001B[0;36m1\u001B[0m\u001B[0;34m:\u001B[0m\u001B[0;34m\u001B[0m\u001B[0m\n\u001B[1;32m   2926\u001B[0m                 \u001B[0;32mreturn\u001B[0m \u001B[0mself\u001B[0m\u001B[0;34m.\u001B[0m\u001B[0m_getitem_multilevel\u001B[0m\u001B[0;34m(\u001B[0m\u001B[0mkey\u001B[0m\u001B[0;34m)\u001B[0m\u001B[0;34m\u001B[0m\u001B[0m\n\u001B[0;32m-> 2927\u001B[0;31m             \u001B[0mindexer\u001B[0m \u001B[0;34m=\u001B[0m \u001B[0mself\u001B[0m\u001B[0;34m.\u001B[0m\u001B[0mcolumns\u001B[0m\u001B[0;34m.\u001B[0m\u001B[0mget_loc\u001B[0m\u001B[0;34m(\u001B[0m\u001B[0mkey\u001B[0m\u001B[0;34m)\u001B[0m\u001B[0;34m\u001B[0m\u001B[0m\n\u001B[0m\u001B[1;32m   2928\u001B[0m             \u001B[0;32mif\u001B[0m \u001B[0mis_integer\u001B[0m\u001B[0;34m(\u001B[0m\u001B[0mindexer\u001B[0m\u001B[0;34m)\u001B[0m\u001B[0;34m:\u001B[0m\u001B[0;34m\u001B[0m\u001B[0m\n\u001B[1;32m   2929\u001B[0m                 \u001B[0mindexer\u001B[0m \u001B[0;34m=\u001B[0m \u001B[0;34m[\u001B[0m\u001B[0mindexer\u001B[0m\u001B[0;34m]\u001B[0m\u001B[0;34m\u001B[0m\u001B[0m\n",
      "\u001B[0;32m/home/zvonimir/PycharmProjects/lentil/venv/local/lib/python2.7/site-packages/pandas/core/indexes/base.pyc\u001B[0m in \u001B[0;36mget_loc\u001B[0;34m(self, key, method, tolerance)\u001B[0m\n\u001B[1;32m   2657\u001B[0m                 \u001B[0;32mreturn\u001B[0m \u001B[0mself\u001B[0m\u001B[0;34m.\u001B[0m\u001B[0m_engine\u001B[0m\u001B[0;34m.\u001B[0m\u001B[0mget_loc\u001B[0m\u001B[0;34m(\u001B[0m\u001B[0mkey\u001B[0m\u001B[0;34m)\u001B[0m\u001B[0;34m\u001B[0m\u001B[0m\n\u001B[1;32m   2658\u001B[0m             \u001B[0;32mexcept\u001B[0m \u001B[0mKeyError\u001B[0m\u001B[0;34m:\u001B[0m\u001B[0;34m\u001B[0m\u001B[0m\n\u001B[0;32m-> 2659\u001B[0;31m                 \u001B[0;32mreturn\u001B[0m \u001B[0mself\u001B[0m\u001B[0;34m.\u001B[0m\u001B[0m_engine\u001B[0m\u001B[0;34m.\u001B[0m\u001B[0mget_loc\u001B[0m\u001B[0;34m(\u001B[0m\u001B[0mself\u001B[0m\u001B[0;34m.\u001B[0m\u001B[0m_maybe_cast_indexer\u001B[0m\u001B[0;34m(\u001B[0m\u001B[0mkey\u001B[0m\u001B[0;34m)\u001B[0m\u001B[0;34m)\u001B[0m\u001B[0;34m\u001B[0m\u001B[0m\n\u001B[0m\u001B[1;32m   2660\u001B[0m         \u001B[0mindexer\u001B[0m \u001B[0;34m=\u001B[0m \u001B[0mself\u001B[0m\u001B[0;34m.\u001B[0m\u001B[0mget_indexer\u001B[0m\u001B[0;34m(\u001B[0m\u001B[0;34m[\u001B[0m\u001B[0mkey\u001B[0m\u001B[0;34m]\u001B[0m\u001B[0;34m,\u001B[0m \u001B[0mmethod\u001B[0m\u001B[0;34m=\u001B[0m\u001B[0mmethod\u001B[0m\u001B[0;34m,\u001B[0m \u001B[0mtolerance\u001B[0m\u001B[0;34m=\u001B[0m\u001B[0mtolerance\u001B[0m\u001B[0;34m)\u001B[0m\u001B[0;34m\u001B[0m\u001B[0m\n\u001B[1;32m   2661\u001B[0m         \u001B[0;32mif\u001B[0m \u001B[0mindexer\u001B[0m\u001B[0;34m.\u001B[0m\u001B[0mndim\u001B[0m \u001B[0;34m>\u001B[0m \u001B[0;36m1\u001B[0m \u001B[0;32mor\u001B[0m \u001B[0mindexer\u001B[0m\u001B[0;34m.\u001B[0m\u001B[0msize\u001B[0m \u001B[0;34m>\u001B[0m \u001B[0;36m1\u001B[0m\u001B[0;34m:\u001B[0m\u001B[0;34m\u001B[0m\u001B[0m\n",
      "\u001B[0;32mpandas/_libs/index.pyx\u001B[0m in \u001B[0;36mpandas._libs.index.IndexEngine.get_loc\u001B[0;34m()\u001B[0m\n",
      "\u001B[0;32mpandas/_libs/index.pyx\u001B[0m in \u001B[0;36mpandas._libs.index.IndexEngine.get_loc\u001B[0;34m()\u001B[0m\n",
      "\u001B[0;32mpandas/_libs/hashtable_class_helper.pxi\u001B[0m in \u001B[0;36mpandas._libs.hashtable.PyObjectHashTable.get_item\u001B[0;34m()\u001B[0m\n",
      "\u001B[0;32mpandas/_libs/hashtable_class_helper.pxi\u001B[0m in \u001B[0;36mpandas._libs.hashtable.PyObjectHashTable.get_item\u001B[0;34m()\u001B[0m\n",
      "\u001B[0;31mKeyError\u001B[0m: 'module_type'"
     ]
    }
   ],
   "source": [
    "num_interactions = len(df)\n",
    "value_counts = df['module_type'].value_counts()\n",
    "num_assessment_ixns = value_counts.get(datatools.AssessmentInteraction.MODULETYPE, 0)\n",
    "num_lesson_ixns = value_counts.get(datatools.LessonInteraction.MODULETYPE, 0)\n",
    "\n",
    "print \"Number of interactions = %d\" % (num_interactions)\n",
    "print \"Number of assessment interactions = %d\" % (num_assessment_ixns)\n",
    "print \"Number of lesson interactions = %d\" % (num_lesson_ixns)\n",
    "\n",
    "num_students = history.num_students()\n",
    "\n",
    "print \"Number of unique students: %d\" % (num_students)\n",
    "\n",
    "num_assessments = history.num_assessments()\n",
    "\n",
    "print \"Number of unique assessments: %d\" % (num_assessments)\n",
    "\n",
    "num_lessons = history.num_lessons()\n",
    "\n",
    "print \"Number of unique lessons: %d\" % (num_lessons)\n",
    "\n",
    "value_counts = df['outcome'].value_counts()\n",
    "num_passes = value_counts.get(True, 0)\n",
    "num_fails = value_counts.get(False, 0)\n",
    "pass_rate = num_passes / (num_passes + num_fails)\n",
    "\n",
    "print \"Overall pass rate: %f\" % (pass_rate)"
   ]
  },
  {
   "cell_type": "code",
   "execution_count": null,
   "metadata": {
    "collapsed": false
   },
   "outputs": [],
   "source": [
    "d = []\n",
    "for _, group in df.groupby('user_id'):\n",
    "    d.extend(group['timestep'].value_counts().values)\n",
    "d = np.array(d) - 1 # remove the lesson interaction at each timestep\n",
    "\n",
    "plt.xlabel('Number of assessment interactions per timestep')\n",
    "plt.ylabel('Frequency (number of timesteps)')\n",
    "plt.hist(d)\n",
    "plt.show()"
   ]
  },
  {
   "cell_type": "code",
   "execution_count": null,
   "metadata": {
    "collapsed": false
   },
   "outputs": [],
   "source": [
    "timestamps = pd.DatetimeIndex(df['timestamp'])\n",
    "\n",
    "print \"Beginning of data set = %s\" % (min(timestamps))\n",
    "print \"End of data set = %s\" % (max(timestamps))\n",
    "\n",
    "hours = timestamps.hour\n",
    "plt.xlabel('Hour of interaction')\n",
    "plt.ylabel('Frequency (number of interactions)')\n",
    "plt.hist(hours, bins=24)\n",
    "plt.show()\n",
    "\n",
    "# Monday=0, Sunday=6\n",
    "days = timestamps.weekday\n",
    "plt.xlabel('Day of interaction')\n",
    "plt.ylabel('Frequency (number of interactions)')\n",
    "plt.hist(days, bins=7)\n",
    "plt.show()"
   ]
  },
  {
   "cell_type": "code",
   "execution_count": null,
   "metadata": {
    "collapsed": false
   },
   "outputs": [],
   "source": [
    "plt.xlabel('Timestep')\n",
    "plt.ylabel('Frequency (number of interactions)')\n",
    "plt.hist(df['timestep'].values)\n",
    "plt.show()"
   ]
  },
  {
   "cell_type": "code",
   "execution_count": null,
   "metadata": {
    "collapsed": false
   },
   "outputs": [],
   "source": [
    "durations = np.array([x for x in df['duration'].values])\n",
    "\n",
    "plt.xlabel('ln(response time, in seconds)')\n",
    "plt.ylabel('Frequency (number of interactions)')\n",
    "plt.hist(np.log(durations+1))\n",
    "plt.show()"
   ]
  },
  {
   "cell_type": "code",
   "execution_count": null,
   "metadata": {
    "collapsed": false
   },
   "outputs": [],
   "source": [
    "counts = df['user_id'].value_counts().values\n",
    "plt.xlabel('Number of interactions per student')\n",
    "plt.ylabel('Frequency (number of students)')\n",
    "plt.hist(counts)\n",
    "plt.show()"
   ]
  },
  {
   "cell_type": "code",
   "execution_count": null,
   "metadata": {
    "collapsed": false
   },
   "outputs": [],
   "source": [
    "counts = df['module_id'][df['module_type'] == datatools.LessonInteraction.MODULETYPE].value_counts().values\n",
    "\n",
    "plt.xlabel('Number of interactions per lesson module')\n",
    "plt.ylabel('Frequency (number of lesson modules)')\n",
    "plt.hist(counts)\n",
    "plt.show()"
   ]
  },
  {
   "cell_type": "code",
   "execution_count": null,
   "metadata": {
    "collapsed": false
   },
   "outputs": [],
   "source": [
    "counts = df['module_id'][df['module_type'] == datatools.AssessmentInteraction.MODULETYPE].value_counts().values\n",
    "\n",
    "plt.xlabel('Number of interactions per assessment module')\n",
    "plt.ylabel('Frequency (number of assessment modules)')\n",
    "plt.hist(counts)\n",
    "plt.show()"
   ]
  },
  {
   "cell_type": "code",
   "execution_count": null,
   "metadata": {
    "collapsed": false
   },
   "outputs": [],
   "source": [
    "counts = df.groupby(['user_id', 'module_id']).size().values\n",
    "\n",
    "plt.xlabel('Number of interactions per student per module')\n",
    "plt.ylabel('Frequency (number of student-module pairs)')\n",
    "plt.hist(counts)\n",
    "plt.show()"
   ]
  },
  {
   "cell_type": "code",
   "execution_count": null,
   "metadata": {
    "collapsed": false
   },
   "outputs": [],
   "source": [
    "num_students_per_module = [len(group['user_id'].unique()) for _, group in df.groupby('module_id')]\n",
    "\n",
    "plt.xlabel('Number of students per module')\n",
    "plt.ylabel('Frequency (number of modules)')\n",
    "plt.hist(num_students_per_module)\n",
    "plt.show()"
   ]
  },
  {
   "cell_type": "code",
   "execution_count": null,
   "metadata": {
    "collapsed": false,
    "scrolled": true
   },
   "outputs": [],
   "source": [
    "grouped = df[df['module_type']==datatools.AssessmentInteraction.MODULETYPE].groupby('user_id')\n",
    "num_assessments_per_student = [len(group['module_id']) for _, group in grouped]\n",
    "\n",
    "plt.xlabel('Number of assessment modules per student')\n",
    "plt.ylabel('Frequency (number of students)')\n",
    "plt.hist(num_assessments_per_student)\n",
    "plt.show()"
   ]
  },
  {
   "cell_type": "code",
   "execution_count": null,
   "metadata": {
    "collapsed": false
   },
   "outputs": [],
   "source": [
    "grouped = df[df['module_type']==datatools.LessonInteraction.MODULETYPE].groupby('user_id')\n",
    "num_lessons_per_student = [len(group['module_id']) for _, group in grouped]\n",
    "\n",
    "plt.xlabel('Number of lesson modules per student')\n",
    "plt.ylabel('Frequency (number of students)')\n",
    "plt.hist(num_lessons_per_student)\n",
    "plt.show()"
   ]
  },
  {
   "cell_type": "code",
   "execution_count": null,
   "metadata": {
    "collapsed": true
   },
   "outputs": [],
   "source": [
    "def get_pass_rates(grouped):\n",
    "    \"\"\"\n",
    "    Get pass rate for each group\n",
    "    \n",
    "    :param pd.GroupBy grouped: A grouped dataframe\n",
    "    :rtype: dict[str, float]\n",
    "    :return: A dictionary mapping group name to pass rate\n",
    "    \"\"\"\n",
    "    pass_rates = {}\n",
    "    for name, group in grouped:\n",
    "        vc = group['outcome'].value_counts()\n",
    "        if True not in vc:\n",
    "            pass_rates[name] = 0\n",
    "        else:\n",
    "            pass_rates[name] = vc[True] / len(group)\n",
    "    return pass_rates"
   ]
  },
  {
   "cell_type": "code",
   "execution_count": null,
   "metadata": {
    "collapsed": false
   },
   "outputs": [],
   "source": [
    "grouped = df[df['module_type']==datatools.AssessmentInteraction.MODULETYPE].groupby('user_id')\n",
    "\n",
    "plt.xlabel('Student pass rate')\n",
    "plt.ylabel('Frequency (number of students)')\n",
    "plt.hist(get_pass_rates(grouped).values())\n",
    "plt.show()"
   ]
  },
  {
   "cell_type": "code",
   "execution_count": null,
   "metadata": {
    "collapsed": false
   },
   "outputs": [],
   "source": [
    "grouped = df[df['module_type']==datatools.AssessmentInteraction.MODULETYPE].groupby('module_id')\n",
    "\n",
    "plt.xlabel('Assessment pass rate')\n",
    "plt.ylabel('Frequency (number of assessments)')\n",
    "plt.hist(get_pass_rates(grouped).values())\n",
    "plt.show()"
   ]
  },
  {
   "cell_type": "code",
   "execution_count": null,
   "metadata": {
    "collapsed": false
   },
   "outputs": [],
   "source": [
    "def make_flow_graph(interaction_logs):\n",
    "    \"\"\"\n",
    "    Create a graphviz object for the graph of \n",
    "    module transitions across all student paths\n",
    "    \n",
    "    :param pd.DataFrame interaction_logs: An interaction history\n",
    "    :rtype pgv.AGraph\n",
    "    :return Graph of module transitions in student paths\n",
    "    \"\"\"\n",
    "    G = pgv.AGraph(directed=True)\n",
    "\n",
    "    for module_id in interaction_logs['module_id'].unique():\n",
    "        G.add_node(module_id)\n",
    "\n",
    "    E = defaultdict(set)\n",
    "    grouped = interaction_logs.groupby('user_id')\n",
    "    for user_id, group in grouped:\n",
    "        module_ids_in_student_path = group['module_id']\n",
    "        for source_node, target_node in zip(module_ids_in_student_path[:-1], module_ids_in_student_path[1:]):\n",
    "            if source_node != target_node: # stationary\n",
    "                E[(source_node, target_node)] |= {user_id}\n",
    "\n",
    "    for (source_node, target_node), students_that_made_transition in E.iteritems():\n",
    "        G.add_edge(\n",
    "            source_node,\n",
    "            target_node,\n",
    "            weight=len(students_that_made_transition))\n",
    "\n",
    "    return G"
   ]
  },
  {
   "cell_type": "code",
   "execution_count": null,
   "metadata": {
    "collapsed": false
   },
   "outputs": [],
   "source": [
    "G = make_flow_graph(df)"
   ]
  },
  {
   "cell_type": "code",
   "execution_count": null,
   "metadata": {
    "collapsed": true
   },
   "outputs": [],
   "source": [
    "flow_graph_path = os.path.join('data', 'assistments_flow_graph.dot')"
   ]
  },
  {
   "cell_type": "code",
   "execution_count": null,
   "metadata": {
    "collapsed": true
   },
   "outputs": [],
   "source": [
    "G.write(flow_graph_path)"
   ]
  },
  {
   "cell_type": "code",
   "execution_count": null,
   "metadata": {
    "collapsed": false
   },
   "outputs": [],
   "source": [
    "def make_conn_graph(interaction_logs):\n",
    "    \"\"\"\n",
    "    Create a graphviz object for the bi-partite graph connecting students\n",
    "    with the modules they've interacted with\n",
    "    \n",
    "    :param pd.DataFrame interaction_logs: An interaction history\n",
    "    :rtype pgv.AGraph\n",
    "    :return Bi-partite graph of student-module interactions\n",
    "    \"\"\"\n",
    "    G = pgv.AGraph(directed=True)\n",
    "\n",
    "    for module_id in interaction_logs['module_id'].unique():\n",
    "        G.add_node(module_id, label='module')\n",
    "\n",
    "    grouped = interaction_logs.groupby('user_id')\n",
    "    for user_id, group in grouped:\n",
    "        G.add_node(user_id, label='student')\n",
    "        for module_id in set(group['module_id'].values):\n",
    "            G.add_edge(user_id, module_id)\n",
    "\n",
    "    return G"
   ]
  },
  {
   "cell_type": "code",
   "execution_count": null,
   "metadata": {
    "collapsed": false
   },
   "outputs": [],
   "source": [
    "G = make_conn_graph(df)"
   ]
  },
  {
   "cell_type": "code",
   "execution_count": null,
   "metadata": {
    "collapsed": true
   },
   "outputs": [],
   "source": [
    "conn_graph_path = os.path.join('data', 'assistments_conn_graph.dot')"
   ]
  },
  {
   "cell_type": "code",
   "execution_count": null,
   "metadata": {
    "collapsed": true
   },
   "outputs": [],
   "source": [
    "G.write(conn_graph_path)"
   ]
  },
  {
   "cell_type": "code",
   "execution_count": null,
   "metadata": {
    "collapsed": true
   },
   "outputs": [],
   "source": []
  }
 ],
 "metadata": {
  "kernelspec": {
   "display_name": "Python 2",
   "language": "python",
   "name": "python2"
  },
  "language_info": {
   "codemirror_mode": {
    "name": "ipython",
    "version": 2
   },
   "file_extension": ".py",
   "mimetype": "text/x-python",
   "name": "python",
   "nbconvert_exporter": "python",
   "pygments_lexer": "ipython2",
   "version": "2.7.10"
  }
 },
 "nbformat": 4,
 "nbformat_minor": 0
}